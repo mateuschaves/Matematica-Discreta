{
 "cells": [
  {
   "cell_type": "markdown",
   "metadata": {},
   "source": [
    "<b>Provar a desigualdade de Bernoulli</b>$(1 + h)^n \\geq 1 + nh$ <b>para todo natural se</b> $h > -1$"
   ]
  },
  {
   "cell_type": "markdown",
   "metadata": {},
   "source": [
    "$P(1): (1 + h)^1 = 1 + h$ <b>: Caso base</b>"
   ]
  },
  {
   "cell_type": "markdown",
   "metadata": {},
   "source": [
    "$P(k): (1 + h)^k \\geq 1 + kh$: <b>Hipótese de indução</b>"
   ]
  },
  {
   "cell_type": "markdown",
   "metadata": {},
   "source": [
    "$P(k + 1): (1 + h)^{k + 1} \\geq (1 + kh)(1 + h) \\rightarrow 1 + h + kh + kh^2$"
   ]
  },
  {
   "cell_type": "markdown",
   "metadata": {},
   "source": [
    "$(1 + h)^{k + 1} \\geq 1 + h + kh + kh^2$"
   ]
  },
  {
   "cell_type": "markdown",
   "metadata": {},
   "source": [
    "$(1 + h)^{k + 1} \\geq 1 + (k + 1)h$"
   ]
  },
  {
   "cell_type": "markdown",
   "metadata": {},
   "source": [
    "$(1 + h)^{k + 1} \\geq 1 + kh + h$"
   ]
  },
  {
   "cell_type": "markdown",
   "metadata": {},
   "source": [
    "<b>Provar que $1 + h + kh + kh^2 \\geq 1 + kh + h$</b>"
   ]
  },
  {
   "cell_type": "markdown",
   "metadata": {},
   "source": [
    "$1 + h + kh + kh^2 ?\\geq 1 + kh + h$"
   ]
  },
  {
   "cell_type": "markdown",
   "metadata": {},
   "source": [
    "$1 + 0 + k \\cdot 0 + k \\cdot 0^2 \\geq 1 + k \\cdot 0 + 0$"
   ]
  },
  {
   "cell_type": "markdown",
   "metadata": {},
   "source": [
    "$1 \\geq 1$"
   ]
  },
  {
   "cell_type": "markdown",
   "metadata": {},
   "source": [
    "<b>Para as condições propostas $h > -1$, essa desigualdade é verdadeira, logo</b>"
   ]
  },
  {
   "cell_type": "markdown",
   "metadata": {},
   "source": [
    "$(1 + h)^{k + 1} \\geq 1 + h + kh + kh^2 \\geq 1 + kh + h$"
   ]
  },
  {
   "cell_type": "markdown",
   "metadata": {},
   "source": [
    "<b>Então $P(k)$ é verdade</b>"
   ]
  }
 ],
 "metadata": {
  "kernelspec": {
   "display_name": "Python 2",
   "language": "python",
   "name": "python2"
  },
  "language_info": {
   "codemirror_mode": {
    "name": "ipython",
    "version": 2
   },
   "file_extension": ".py",
   "mimetype": "text/x-python",
   "name": "python",
   "nbconvert_exporter": "python",
   "pygments_lexer": "ipython2",
   "version": "2.7.15"
  }
 },
 "nbformat": 4,
 "nbformat_minor": 2
}
