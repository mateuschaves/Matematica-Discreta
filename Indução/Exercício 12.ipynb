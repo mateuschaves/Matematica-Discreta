{
 "cells": [
  {
   "cell_type": "markdown",
   "metadata": {},
   "source": [
    "<b>Prove que  $n^2 \\geq 3n$ para $n \\geq 4$</b>"
   ]
  },
  {
   "cell_type": "markdown",
   "metadata": {},
   "source": [
    "Passo base: $n = 4, 4^2 \\geq 3 \\cdot 4$. O passo base é verdadeiro."
   ]
  },
  {
   "cell_type": "markdown",
   "metadata": {},
   "source": [
    "Passo de indução: Se a fórmula é verdadeira para $n = k, k \\geq 4$, implica dizer que é verdadeira para $n = k + 1, k \\geq 4$"
   ]
  },
  {
   "cell_type": "markdown",
   "metadata": {},
   "source": [
    "Hipótese de indução: $k^2 \\geq 3k, k \\geq 4$"
   ]
  },
  {
   "cell_type": "markdown",
   "metadata": {},
   "source": [
    "Deve-se mostrar que: <br><br> $(k + 1)^2 \\geq 3(k + 1), k \\geq 4$ <br> <br> $k^2 + 2k + 1 \\geq 3k + 3, k \\geq 4$"
   ]
  },
  {
   "cell_type": "markdown",
   "metadata": {},
   "source": [
    "Sabe-se que: $k^2 \\geq 3k$"
   ]
  },
  {
   "cell_type": "markdown",
   "metadata": {},
   "source": [
    "$2k + 1 \\geq 3, k \\geq 4$"
   ]
  },
  {
   "cell_type": "markdown",
   "metadata": {},
   "source": [
    "Para as condições propostas no exercício $ k \\geq 4$, essa afirmação é verdadeira, tendo que"
   ]
  },
  {
   "cell_type": "markdown",
   "metadata": {},
   "source": [
    "$2 \\cdot 4 + 1 \\geq 3$"
   ]
  },
  {
   "cell_type": "markdown",
   "metadata": {},
   "source": [
    "$9 \\geq 3$, logo podemos afirmar que $2k + 1 \\geq 3, k \\geq 4$"
   ]
  },
  {
   "cell_type": "markdown",
   "metadata": {},
   "source": [
    "E concluir que $k^2 + 2k + 1 \\geq 3k + 3, k \\geq 4$"
   ]
  }
 ],
 "metadata": {
  "kernelspec": {
   "display_name": "Python 2",
   "language": "python",
   "name": "python2"
  },
  "language_info": {
   "codemirror_mode": {
    "name": "ipython",
    "version": 2
   },
   "file_extension": ".py",
   "mimetype": "text/x-python",
   "name": "python",
   "nbconvert_exporter": "python",
   "pygments_lexer": "ipython2",
   "version": "2.7.15"
  }
 },
 "nbformat": 4,
 "nbformat_minor": 2
}
