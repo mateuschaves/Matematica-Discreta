{
 "cells": [
  {
   "cell_type": "markdown",
   "metadata": {},
   "source": [
    "$1 + 5 + 9 + ... + (4n - 3) = n(2n - 1)$"
   ]
  },
  {
   "cell_type": "markdown",
   "metadata": {},
   "source": [
    "$P(1): 1 ?= 1(2\\cdot1 -1)$<b>Sim, P(1) é verdade !</b>"
   ]
  },
  {
   "cell_type": "markdown",
   "metadata": {},
   "source": [
    "$P(k): 1 + 5 + 9 + ... + (4k - 3) = k(2k - 1)$ <b>Supõe verdade</b>"
   ]
  },
  {
   "cell_type": "markdown",
   "metadata": {},
   "source": [
    "$P(k + 1) = 1 + 5 + 9 + ... + (4k - 3) + (4k + 1) = (k + 1)(2(k + 1) - 1)$"
   ]
  },
  {
   "cell_type": "markdown",
   "metadata": {},
   "source": [
    "$k(2k - 1) + (4k + 1) = (k + 1)(2k + 1)$"
   ]
  },
  {
   "cell_type": "markdown",
   "metadata": {},
   "source": [
    "$2k^2 - k + 4k + 1 = 0$"
   ]
  },
  {
   "cell_type": "markdown",
   "metadata": {},
   "source": [
    "$2(k + \\frac{1}{2})(k + 1)$"
   ]
  },
  {
   "cell_type": "markdown",
   "metadata": {},
   "source": [
    "$(2k + 1)(k + 1)$ <b>Sim $P(k + 1)$ é verdade !</b>"
   ]
  }
 ],
 "metadata": {
  "kernelspec": {
   "display_name": "Python 2",
   "language": "python",
   "name": "python2"
  },
  "language_info": {
   "codemirror_mode": {
    "name": "ipython",
    "version": 2
   },
   "file_extension": ".py",
   "mimetype": "text/x-python",
   "name": "python",
   "nbconvert_exporter": "python",
   "pygments_lexer": "ipython2",
   "version": "2.7.15"
  }
 },
 "nbformat": 4,
 "nbformat_minor": 2
}
