{
 "cells": [
  {
   "cell_type": "markdown",
   "metadata": {},
   "source": [
    "<b>Prove matematicamente que </b>$1^2 + 2^2 + . . . + n^2 = \\frac{n(n + 1)(2n + 1)}{6}, n ≥ 1.$"
   ]
  },
  {
   "cell_type": "markdown",
   "metadata": {},
   "source": [
    "Caso base: $1^2 ?= \\frac{1(1 + 1)(2\\cdot 1 + 1)}{6} \\rightarrow 1 = 1$ ok"
   ]
  },
  {
   "cell_type": "markdown",
   "metadata": {},
   "source": [
    "Hipótese de indução: $ 1^2 + 2^2 + ... + k^2 = \\frac{k(k+1)(2k+1)}{6}, k \\geq 1$"
   ]
  },
  {
   "cell_type": "markdown",
   "metadata": {},
   "source": [
    "Tese : $1^2 + 2^2 ... k^2 + (k+1)^2 = \\frac{(k+1)(k+2)(2k + 3)}{6}$"
   ]
  },
  {
   "cell_type": "markdown",
   "metadata": {},
   "source": [
    "Pela hipótese de indução, supomos que $1^2 + 2^2 + ... + k^2 = \\frac{k(k+1)(2k+1)}{6}, k \\geq 1$, logo"
   ]
  },
  {
   "cell_type": "markdown",
   "metadata": {},
   "source": [
    "$\\frac{k(k+1)(2k+1)}{6} + (k+1)^2 = \\frac{(k+1)(k+2)(2k+3)}{6}$"
   ]
  },
  {
   "cell_type": "markdown",
   "metadata": {},
   "source": [
    "$\\frac{6(k+1)^2 + k(k+1)(2k+1)}{6} = \\frac{(k+1)(k+2)(2k+3)}{6}$"
   ]
  },
  {
   "cell_type": "markdown",
   "metadata": {},
   "source": [
    "$\\frac{ 6( k^2 + 2k + 1 ) + (k^2 + k)(2k + 1) }{6}$"
   ]
  },
  {
   "cell_type": "markdown",
   "metadata": {},
   "source": [
    "$\\frac{ 2k^3 + 9k^2 + 13k + 6}{6} = \\frac{ 2k^3 + 9k^2 + 13k + 6}{6}$ É verdade"
   ]
  }
 ],
 "metadata": {
  "kernelspec": {
   "display_name": "Python 2",
   "language": "python",
   "name": "python2"
  },
  "language_info": {
   "codemirror_mode": {
    "name": "ipython",
    "version": 2
   },
   "file_extension": ".py",
   "mimetype": "text/x-python",
   "name": "python",
   "nbconvert_exporter": "python",
   "pygments_lexer": "ipython2",
   "version": "2.7.15"
  }
 },
 "nbformat": 4,
 "nbformat_minor": 2
}
