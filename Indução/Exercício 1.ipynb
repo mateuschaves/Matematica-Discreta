{
 "cells": [
  {
   "cell_type": "markdown",
   "metadata": {},
   "source": [
    "$ 2 + 6 + 10 + ... + ( 4n - 2 ) = 2n^2$"
   ]
  },
  {
   "cell_type": "markdown",
   "metadata": {},
   "source": [
    "$P(1) : 2 \\cdot 1^2  2 = 2$ <b>Sim, $P(1)$ é verdade</b>"
   ]
  },
  {
   "cell_type": "markdown",
   "metadata": {},
   "source": [
    "$P(k): 2 + 6 + 10 + ... + (4k - 2) = 2k^2$"
   ]
  },
  {
   "cell_type": "markdown",
   "metadata": {},
   "source": [
    "$P(k): 2 + 6 + 10 + ... + (4k - 2) + (4k + 2) = 2(k + 1)^2$"
   ]
  },
  {
   "cell_type": "markdown",
   "metadata": {},
   "source": [
    "$2k^2 + (4k + 2) = 2(k + 1)^2$"
   ]
  },
  {
   "cell_type": "markdown",
   "metadata": {},
   "source": [
    "$2(k^2 + 2k + 1) = 2(k + 1)^2$"
   ]
  },
  {
   "cell_type": "markdown",
   "metadata": {},
   "source": [
    "$2(k + 1)^2 = 2(k + 1)^2$ <b>Sim, $P(k + 1)$ é verdade</b>"
   ]
  }
 ],
 "metadata": {
  "kernelspec": {
   "display_name": "Python 2",
   "language": "python",
   "name": "python2"
  },
  "language_info": {
   "codemirror_mode": {
    "name": "ipython",
    "version": 2
   },
   "file_extension": ".py",
   "mimetype": "text/x-python",
   "name": "python",
   "nbconvert_exporter": "python",
   "pygments_lexer": "ipython2",
   "version": "2.7.15"
  }
 },
 "nbformat": 4,
 "nbformat_minor": 2
}
