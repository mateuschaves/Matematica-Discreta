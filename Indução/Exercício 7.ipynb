{
 "cells": [
  {
   "cell_type": "markdown",
   "metadata": {},
   "source": [
    "<b>$1^2 + 2^2 + ... + n^2 = \\frac{n(n+1)(2n+1)}{6}$</b>"
   ]
  },
  {
   "cell_type": "markdown",
   "metadata": {},
   "source": [
    "$P(1) 1 = \\frac{1\\cdot ( 2 )( 2 \\cdot 1 + 1)}{6} = \\frac{6}{6} = 1$ <b>Sim, $P(1)$ é verdade</b>"
   ]
  },
  {
   "cell_type": "markdown",
   "metadata": {},
   "source": [
    "$P(k) = 1^2 + 2^2 + ... + k^2 = \\frac{k(k + 1)(2k + 1)}{6}, $<b>Hipotese de indução</b>"
   ]
  },
  {
   "cell_type": "markdown",
   "metadata": {},
   "source": [
    "$P( k + 1) = 1^2 + 2^2 + ... k^2 + (k + 1)^2$"
   ]
  },
  {
   "cell_type": "markdown",
   "metadata": {},
   "source": [
    "$P(k + 1) = \\frac{k(k+1)(2k+1)}{6} + (k + 1)^2$"
   ]
  },
  {
   "cell_type": "markdown",
   "metadata": {},
   "source": [
    "$P(k + 1) = \\frac{k(k+1)(2k+1) + 6(k+1)^2}{6}$"
   ]
  },
  {
   "cell_type": "markdown",
   "metadata": {},
   "source": [
    "$P(k + 1) = \\frac{(k + 1)}{6} \\cdot [ k(2k + 1) + 6(k+1) ]$"
   ]
  },
  {
   "cell_type": "markdown",
   "metadata": {},
   "source": [
    "$P(k + 1) = \\frac{(k + 1)}{6} \\cdot [2k^2 + 7k + 1]$"
   ]
  },
  {
   "cell_type": "markdown",
   "metadata": {},
   "source": [
    "$P(k + 1) = \\frac{k + 1}{6}\\cdot [2k^2 + 3k + 4k + 1]$"
   ]
  },
  {
   "cell_type": "markdown",
   "metadata": {},
   "source": [
    "$P(k + 1) = \\frac{k + 1}{6} \\cdot [k(2k + 3) + 2(2k + 3)]$"
   ]
  },
  {
   "cell_type": "markdown",
   "metadata": {},
   "source": [
    "$P(k + 1) = \\frac{k + 1}{6} \\cdot (k + 2)(2k + 3)$"
   ]
  }
 ],
 "metadata": {
  "kernelspec": {
   "display_name": "Python 2",
   "language": "python",
   "name": "python2"
  },
  "language_info": {
   "codemirror_mode": {
    "name": "ipython",
    "version": 2
   },
   "file_extension": ".py",
   "mimetype": "text/x-python",
   "name": "python",
   "nbconvert_exporter": "python",
   "pygments_lexer": "ipython2",
   "version": "2.7.15"
  }
 },
 "nbformat": 4,
 "nbformat_minor": 2
}
