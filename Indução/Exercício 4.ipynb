{
 "cells": [
  {
   "cell_type": "markdown",
   "metadata": {},
   "source": [
    "$1 + 3 + 6 + ... + \\frac{n(n + 1)}{2} = \\frac{n(n + 1)(n + 2)}{6}$"
   ]
  },
  {
   "cell_type": "markdown",
   "metadata": {},
   "source": [
    "$P(1) 1 ?= \\frac{1 ( 1 + 1)(1 + 3)}{2} \\rightarrow $ <b>Logo, $P(1)$ é verdade !</b>"
   ]
  },
  {
   "cell_type": "markdown",
   "metadata": {},
   "source": [
    "$P(k) = 1 + 3 + 6 + ... + \\frac{k(k+1)}{2} = \\frac{k(k+1)(k+2)}{6}$ <b>Supõe verdade</b>"
   ]
  },
  {
   "cell_type": "markdown",
   "metadata": {},
   "source": [
    "$P(k + 1) = 1 + 3 + 6 + ... + \\frac{k(k + 1)}{2} + ( \\frac{k(k + 1)}{2} \\cdot 3 ) = \\frac{(k + 1)(k + 2)(k + 3)}{6}$"
   ]
  },
  {
   "cell_type": "markdown",
   "metadata": {},
   "source": [
    "<b>Por hipótese, temos que $ 1 + 3 + 6 + ... +  \\frac{k(k+1)}{2} = \\frac{k(k+1)(k+2)}{6}$, Logo</b>"
   ]
  },
  {
   "cell_type": "markdown",
   "metadata": {},
   "source": [
    "$\\frac{k(k+1)(k+2)}{6} + \\frac{3k(k + 1)}{2}  = \\frac{(k+1)(k+2)(k+3)}{6}$"
   ]
  }
 ],
 "metadata": {
  "kernelspec": {
   "display_name": "Python 2",
   "language": "python",
   "name": "python2"
  },
  "language_info": {
   "codemirror_mode": {
    "name": "ipython",
    "version": 2
   },
   "file_extension": ".py",
   "mimetype": "text/x-python",
   "name": "python",
   "nbconvert_exporter": "python",
   "pygments_lexer": "ipython2",
   "version": "2.7.15"
  }
 },
 "nbformat": 4,
 "nbformat_minor": 2
}
