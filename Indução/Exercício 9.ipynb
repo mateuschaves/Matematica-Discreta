{
 "cells": [
  {
   "cell_type": "markdown",
   "metadata": {},
   "source": [
    "<b>Prove por indução matemática que</b> $1 + 3 + 5 + . . . + (2n − 1) = n^2, n ≥ 1.$"
   ]
  },
  {
   "cell_type": "markdown",
   "metadata": {},
   "source": [
    "Caso base: $1 = 1^2$ ok"
   ]
  },
  {
   "cell_type": "markdown",
   "metadata": {},
   "source": [
    "Hipótese de indução $1 + 3 + 5 + ... + (2k -1) = k^2, k \\geq 1$"
   ]
  },
  {
   "cell_type": "markdown",
   "metadata": {},
   "source": [
    "Tese $1 + 3 + 5 + ... + (2k - 1) + (2k + 1) ?= (k+1)^2$"
   ]
  },
  {
   "cell_type": "markdown",
   "metadata": {},
   "source": [
    "Pela hipótese de indução, temos que $1 + 3 + 5 + ... + (2k -1) = k^2, k \\geq 1$, logo"
   ]
  },
  {
   "cell_type": "markdown",
   "metadata": {},
   "source": [
    "$ k^2 + 2k + 1 = (k + 1)^2 $"
   ]
  },
  {
   "cell_type": "markdown",
   "metadata": {},
   "source": [
    "$k^2 + 2k + 1 = k^2 + 2k + 1$, É verdade"
   ]
  }
 ],
 "metadata": {
  "kernelspec": {
   "display_name": "Python 2",
   "language": "python",
   "name": "python2"
  },
  "language_info": {
   "codemirror_mode": {
    "name": "ipython",
    "version": 2
   },
   "file_extension": ".py",
   "mimetype": "text/x-python",
   "name": "python",
   "nbconvert_exporter": "python",
   "pygments_lexer": "ipython2",
   "version": "2.7.15"
  }
 },
 "nbformat": 4,
 "nbformat_minor": 2
}
