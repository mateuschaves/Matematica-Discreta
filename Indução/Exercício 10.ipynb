{
 "cells": [
  {
   "cell_type": "markdown",
   "metadata": {},
   "source": [
    "<b>Prove por indução matemática que</b> $1^3 + 2^3 + . . . + n^3 = (1 + 2 + . . . + n)^2, n ≥ 1$"
   ]
  },
  {
   "cell_type": "markdown",
   "metadata": {},
   "source": [
    "$i)$ Passo base: $n = 1, 1^3 = 1^2.$ O passo base é verdadeiro"
   ]
  },
  {
   "cell_type": "markdown",
   "metadata": {},
   "source": [
    "$ii)$ Passo indutivo: Se a fórmula é verdadeira para $n = k$ implica dizer que $n = k + 1$ é verdade ?"
   ]
  },
  {
   "cell_type": "markdown",
   "metadata": {},
   "source": [
    "$$1 + 2 + 3 + ... + n = \\frac{n(n + 1)}{2}$$"
   ]
  },
  {
   "cell_type": "markdown",
   "metadata": {},
   "source": [
    "Hipótese indutiva: $1^3 + 2^3 + . . . + k^3 = \\frac{k^2(k + 1)^2}{4}, k ≥ 1$"
   ]
  },
  {
   "cell_type": "markdown",
   "metadata": {},
   "source": [
    "Deve-se mostrar que $1^3 + 2^3 + . . . + k^3 + (k + 1)^3 = \\frac{(k + 1)^2(k + 2)^2}{4}, k \\geq 1$"
   ]
  },
  {
   "cell_type": "markdown",
   "metadata": {},
   "source": [
    "Sabe-se que <br>$1^3 + 2^3 + ... + k^3 + (k + 1)^3 = \\frac{k^2(k+1)^2}{4} + (k + 1)^3 $"
   ]
  },
  {
   "cell_type": "markdown",
   "metadata": {},
   "source": [
    "$ = \\frac{k^2(k + 1)^2}{4} + (k + 1)(k + 1)^2$"
   ]
  },
  {
   "cell_type": "markdown",
   "metadata": {},
   "source": [
    "$= \\frac{k^2(k+1)^2}{4} + \\frac{4(k + 1)(k + 1)^2}{4}$"
   ]
  },
  {
   "cell_type": "markdown",
   "metadata": {},
   "source": [
    "$=\\frac{(k+1)^2}{4}( k^2 + 4(k+1) )$"
   ]
  },
  {
   "cell_type": "markdown",
   "metadata": {},
   "source": [
    "$=\\frac{(k+1)^2(k^2 + 4k + 1)}{4}$"
   ]
  },
  {
   "cell_type": "markdown",
   "metadata": {},
   "source": [
    "$=\\frac{(k+1)^2(k+2)^2}{4}$"
   ]
  }
 ],
 "metadata": {
  "kernelspec": {
   "display_name": "Python 2",
   "language": "python",
   "name": "python2"
  },
  "language_info": {
   "codemirror_mode": {
    "name": "ipython",
    "version": 2
   },
   "file_extension": ".py",
   "mimetype": "text/x-python",
   "name": "python",
   "nbconvert_exporter": "python",
   "pygments_lexer": "ipython2",
   "version": "2.7.15"
  }
 },
 "nbformat": 4,
 "nbformat_minor": 2
}
