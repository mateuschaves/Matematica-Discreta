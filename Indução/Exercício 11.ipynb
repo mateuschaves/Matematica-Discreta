{
 "cells": [
  {
   "cell_type": "markdown",
   "metadata": {},
   "source": [
    "Prove por indução matemática que $2 · 1 + 2 · 2 + 2 · 3 + . . . + 2n = n^2 + n, n ≥ 1.$"
   ]
  },
  {
   "cell_type": "markdown",
   "metadata": {},
   "source": [
    "$i)$ Passo base: $n = 1, 2 \\cdot 1 = 1 ^2 + 1$, O passo base é verdadeiro"
   ]
  },
  {
   "cell_type": "markdown",
   "metadata": {},
   "source": [
    "$ii)$ Passo de indução: Se a fórmula é verdadeira para $n = k$, implica dizer que é verdadeira para $n = k + 1$ ?"
   ]
  },
  {
   "cell_type": "markdown",
   "metadata": {},
   "source": [
    "Hipótese indutiva: $2 · 1 + 2 · 2 + 2 · 3 + . . . + 2k = k^2 + k, k ≥ 1.$"
   ]
  },
  {
   "cell_type": "markdown",
   "metadata": {},
   "source": [
    "Deve-se mostrar que $2 · 1 + 2 · 2 + 2 · 3 + . . . + 2k + 2(k + 1) = (k + 1)^2 + (k + 1), k ≥ 1.$"
   ]
  },
  {
   "cell_type": "markdown",
   "metadata": {},
   "source": [
    "Sabe-se que: <br> $2 · 1 + 2 · 2 + 2 · 3 + . . . + 2k + 2(k + 1) = k^2 + k + 2(k + 1)$"
   ]
  },
  {
   "cell_type": "markdown",
   "metadata": {},
   "source": [
    "$= k^2 + 3k + 2$"
   ]
  },
  {
   "cell_type": "markdown",
   "metadata": {},
   "source": [
    "Desenvolvendo $(k + 1)^2 + (k + 1)$, temos que"
   ]
  },
  {
   "cell_type": "markdown",
   "metadata": {},
   "source": [
    "$= k^2 + 2k + 1 + k + 1$"
   ]
  },
  {
   "cell_type": "markdown",
   "metadata": {},
   "source": [
    "$= k^2 + 3k + 2$"
   ]
  }
 ],
 "metadata": {
  "kernelspec": {
   "display_name": "Python 2",
   "language": "python",
   "name": "python2"
  },
  "language_info": {
   "codemirror_mode": {
    "name": "ipython",
    "version": 2
   },
   "file_extension": ".py",
   "mimetype": "text/x-python",
   "name": "python",
   "nbconvert_exporter": "python",
   "pygments_lexer": "ipython2",
   "version": "2.7.15"
  }
 },
 "nbformat": 4,
 "nbformat_minor": 2
}
