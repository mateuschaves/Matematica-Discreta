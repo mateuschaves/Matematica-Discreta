{
 "cells": [
  {
   "cell_type": "markdown",
   "metadata": {},
   "source": [
    "$4 + 10 + 16 + ... + (6n - 2) = n(3n + 1)$"
   ]
  },
  {
   "cell_type": "markdown",
   "metadata": {},
   "source": [
    "$P(1): 4 ?= 1 \\cdot (3 \\cdot 1 + 1) \\rightarrow 4 = 4$ <b>Logo, $P(1)$ é verdade</b>"
   ]
  },
  {
   "cell_type": "markdown",
   "metadata": {},
   "source": [
    "$P(k): 4 + 10 + 16 + ... + (6k - 2) = k(3k + 1)$<b>Supõe verdade</b>"
   ]
  },
  {
   "cell_type": "markdown",
   "metadata": {},
   "source": [
    "$P(k+1): 4 + 10 + (6k - 2) + (6k + 4) = (k+1)(3k+ 4)$"
   ]
  },
  {
   "cell_type": "markdown",
   "metadata": {},
   "source": [
    "<b>Por hipótese temos que $4 + 10 + 16 + ... + (6k - 2) = k(3k + 1)$ Logo</b>"
   ]
  },
  {
   "cell_type": "markdown",
   "metadata": {},
   "source": [
    "$k(3k + 1) + (6k + 4) = (k + 1)(3k + 4)$"
   ]
  },
  {
   "cell_type": "markdown",
   "metadata": {},
   "source": [
    "$3k^2 + 7k + 4 = (k + 1)(3k + 4)$"
   ]
  },
  {
   "cell_type": "markdown",
   "metadata": {},
   "source": [
    "$3k^2 + 7k + 4 = 3k^2 + 7k + 4 $ <b>Logo, $P(k + 1)$ é verdade</b>"
   ]
  }
 ],
 "metadata": {
  "kernelspec": {
   "display_name": "Python 2",
   "language": "python",
   "name": "python2"
  },
  "language_info": {
   "codemirror_mode": {
    "name": "ipython",
    "version": 2
   },
   "file_extension": ".py",
   "mimetype": "text/x-python",
   "name": "python",
   "nbconvert_exporter": "python",
   "pygments_lexer": "ipython2",
   "version": "2.7.15"
  }
 },
 "nbformat": 4,
 "nbformat_minor": 2
}
